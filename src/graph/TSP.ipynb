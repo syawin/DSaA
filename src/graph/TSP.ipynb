{
 "cells": [
  {
   "cell_type": "code",
   "metadata": {
    "collapsed": true,
    "ExecuteTime": {
     "end_time": "2025-08-09T18:27:33.760519Z",
     "start_time": "2025-08-09T18:27:33.472853Z"
    }
   },
   "source": [
    "permutations(\"cat\")\n",
    "\n",
    "fun permutations(path: String): List<String> {\n",
    "    val result = mutableListOf<String>()\n",
    "    anagramRecursive(\"\", path, result)\n",
    "    return result\n",
    "}\n",
    "\n",
    "fun anagramRecursive(prefix: String, rest: String, acc: MutableList<String>) {\n",
    "    if (rest.isEmpty()) acc.add(prefix)\n",
    "    else {\n",
    "        for (i in 0..rest.lastIndex) {\n",
    "            anagramRecursive(\n",
    "                prefix + rest[i],\n",
    "                rest.substring(0 until i) + rest.substring(i + 1..rest.lastIndex),\n",
    "                acc,\n",
    "            )\n",
    "        }\n",
    "    }\n",
    "}\n"
   ],
   "outputs": [],
   "execution_count": 1
  },
  {
   "metadata": {
    "ExecuteTime": {
     "end_time": "2025-08-08T22:39:30.078001Z",
     "start_time": "2025-08-08T22:39:29.876257Z"
    }
   },
   "cell_type": "code",
   "source": [
    "import graph.WeightedGraph\n",
    "import graph.tspDemo\n",
    "\n",
    "val graph: WeightedGraph = tspDemo()\n",
    "\n",
    "// step 1, get all the vertices of the graph as a string\n",
    "val vertices = graph.vertexList.map { it!!.label }.joinToString(\"\")\n",
    "\n",
    "println(vertices)\n",
    "// step 2, generate an array of permutations on all the vertices in the graph\n",
    "val allPaths = permutations(vertices)\n",
    "println(allPaths)\n",
    "\n",
    "// transform the set of all permutations of of vertices: filter only those that begin at our starting vertex ('A')\n",
    "//  and append the same starting vertex to the end of each permutation left.\n",
    "val tspPaths= allPaths.filter { it.startsWith('A') }.map { it.plus('A') }\n",
    "println(tspPaths)\n",
    "\n",
    "// with this subset we can then brute force navigation to see which is our lowest cost traversal (and which ones are\n",
    "//  even possible)\n",
    "val pathCostMap = tspPaths.associateWith { p -> computeCost(p, graph) }\n",
    "        .toMutableMap()\n",
    "\n",
    "// Adjust getWeight(...) to match your WeightedGraph API\n",
    "fun computeCost(path: String, g: WeightedGraph): Int {\n",
    "    var total = 0\n",
    "    for (i in 0 until path.lastIndex) {\n",
    "        val u = path[i] - 'A'  // assumes labels 'A'..'Z'\n",
    "        val v = path[i + 1] - 'A'\n",
    "        val w = if (g.weightMatrix[u][v] < Int.MAX_VALUE) g.weightMatrix[u][v] else return Int.MAX_VALUE\n",
    "        total += w\n",
    "    }\n",
    "    return total\n",
    "}\n",
    "\n",
    "println(pathCostMap.toList().filter { it.second < Int.MAX_VALUE }.sortedBy { it.second })\n",
    "pathCostMap.minByOrNull { it.value }?.let { println(\"Lowest cost path: ${it.key}\") }"
   ],
   "outputs": [
    {
     "name": "stdout",
     "output_type": "stream",
     "text": [
      "   A  B  C  D  E  \n",
      "A  -  91 62 55 -  \n",
      "B  91 -  44 -  31 \n",
      "C  62 44 -  52 45 \n",
      "D  55 -  52 -  83 \n",
      "E  -  31 45 83 -  \n",
      "ABCDE\n",
      "[ABCDE, ABCED, ABDCE, ABDEC, ABECD, ABEDC, ACBDE, ACBED, ACDBE, ACDEB, ACEBD, ACEDB, ADBCE, ADBEC, ADCBE, ADCEB, ADEBC, ADECB, AEBCD, AEBDC, AECBD, AECDB, AEDBC, AEDCB, BACDE, BACED, BADCE, BADEC, BAECD, BAEDC, BCADE, BCAED, BCDAE, BCDEA, BCEAD, BCEDA, BDACE, BDAEC, BDCAE, BDCEA, BDEAC, BDECA, BEACD, BEADC, BECAD, BECDA, BEDAC, BEDCA, CABDE, CABED, CADBE, CADEB, CAEBD, CAEDB, CBADE, CBAED, CBDAE, CBDEA, CBEAD, CBEDA, CDABE, CDAEB, CDBAE, CDBEA, CDEAB, CDEBA, CEABD, CEADB, CEBAD, CEBDA, CEDAB, CEDBA, DABCE, DABEC, DACBE, DACEB, DAEBC, DAECB, DBACE, DBAEC, DBCAE, DBCEA, DBEAC, DBECA, DCABE, DCAEB, DCBAE, DCBEA, DCEAB, DCEBA, DEABC, DEACB, DEBAC, DEBCA, DECAB, DECBA, EABCD, EABDC, EACBD, EACDB, EADBC, EADCB, EBACD, EBADC, EBCAD, EBCDA, EBDAC, EBDCA, ECABD, ECADB, ECBAD, ECBDA, ECDAB, ECDBA, EDABC, EDACB, EDBAC, EDBCA, EDCAB, EDCBA]\n",
      "[ABCDEA, ABCEDA, ABDCEA, ABDECA, ABECDA, ABEDCA, ACBDEA, ACBEDA, ACDBEA, ACDEBA, ACEBDA, ACEDBA, ADBCEA, ADBECA, ADCBEA, ADCEBA, ADEBCA, ADECBA, AEBCDA, AEBDCA, AECBDA, AECDBA, AEDBCA, AEDCBA]\n",
      "[(ABECDA, 274), (ADCEBA, 274), (ACBEDA, 275), (ADEBCA, 275), (ABCEDA, 318), (ADECBA, 318), (ABEDCA, 319), (ACDEBA, 319)]\n",
      "Lowest cost path: ABECDA\n"
     ]
    }
   ],
   "execution_count": 22
  }
 ],
 "metadata": {
  "kernelspec": {
   "display_name": "Kotlin",
   "language": "kotlin",
   "name": "kotlin"
  },
  "language_info": {
   "name": "kotlin",
   "version": "2.2.20-dev-4982",
   "mimetype": "text/x-kotlin",
   "file_extension": ".kt",
   "pygments_lexer": "kotlin",
   "codemirror_mode": "text/x-kotlin",
   "nbconvert_exporter": ""
  },
  "ktnbPluginMetadata": {
   "projectLibraries": true,
   "sessionRunMode": "IDE_PROCESS"
  }
 },
 "nbformat": 4,
 "nbformat_minor": 0
}
