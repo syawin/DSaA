{
 "cells": [
  {
   "cell_type": "code",
   "metadata": {
    "collapsed": true,
    "ExecuteTime": {
     "end_time": "2025-07-07T20:33:40.070112Z",
     "start_time": "2025-07-07T20:33:40.011530Z"
    }
   },
   "source": [
    "import graph.DirectedGraph\n",
    "\n",
    "fun demo() {\n",
    "    val theGraph = DirectedGraph(8)\n",
    "    theGraph.addVertex('A')\n",
    "    theGraph.addVertex('B')\n",
    "    theGraph.addVertex('C')\n",
    "    theGraph.addVertex('D')\n",
    "    theGraph.addVertex('E')\n",
    "    theGraph.addEdge(0, 2) // AC\n",
    "    theGraph.addEdge(1, 0) // BA\n",
    "    theGraph.addEdge(1, 4) // BE\n",
    "    theGraph.addEdge(3, 4) // DE\n",
    "    theGraph.addEdge(4, 2) // EC\n",
    "\n",
    "    theGraph.connectivityTable()\n",
    "    println(\"\\nAdjacency Matrix:\")\n",
    "    theGraph.displayAdjacencyMatrix()\n",
    "    theGraph.warshallAlgorithm()\n",
    "    println(\"\\nAdjacency Matrix With Transitive Closure:\")\n",
    "    theGraph.displayAdjacencyMatrix()\n",
    "}\n",
    "\n",
    "demo()"
   ],
   "outputs": [
    {
     "name": "stdout",
     "output_type": "stream",
     "text": [
      "A C \n",
      "B A C E \n",
      "C \n",
      "D E C \n",
      "E C \n",
      "\n",
      "Adjacency Matrix:\n",
      "  A B C D E \n",
      "A     1     \n",
      "B 1       1 \n",
      "C           \n",
      "D         1 \n",
      "E     1     \n",
      "\n",
      "Adjacency Matrix With Transitive Closure:\n",
      "  A B C D E \n",
      "A     1     \n",
      "B 1   1   1 \n",
      "C           \n",
      "D     1   1 \n",
      "E     1     \n"
     ]
    }
   ],
   "execution_count": 5
  }
 ],
 "metadata": {
  "kernelspec": {
   "display_name": "Kotlin",
   "language": "kotlin",
   "name": "kotlin"
  },
  "language_info": {
   "name": "kotlin",
   "version": "1.9.23",
   "mimetype": "text/x-kotlin",
   "file_extension": ".kt",
   "pygments_lexer": "kotlin",
   "codemirror_mode": "text/x-kotlin",
   "nbconvert_exporter": ""
  },
  "ktnbPluginMetadata": {
   "projectLibraries": true
  }
 },
 "nbformat": 4,
 "nbformat_minor": 0
}
